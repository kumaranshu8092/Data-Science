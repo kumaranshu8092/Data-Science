{
 "cells": [
  {
   "cell_type": "code",
   "execution_count": null,
   "metadata": {},
   "outputs": [],
   "source": [
    "# module-2\n",
    "\n",
    "import numpy as np\n",
    "from numpy.random import randn\n",
    "count=0\n",
    "for i in randn(1000):\n",
    "    if(i<1 and i>-1):\n",
    "        count= count + 1\n",
    "    value= (count/1000)*100\n",
    "    print(value)"
   ]
  },
  {
   "cell_type": "markdown",
   "metadata": {},
   "source": [
    "Modele-3"
   ]
  },
  {
   "cell_type": "code",
   "execution_count": 2,
   "metadata": {},
   "outputs": [],
   "source": [
    "#Data \n",
    "revenue = [14574.49, 7606.46, 8611.41, 9175.41, 8058.65, 8105.44, 11496.28, 9766.09, 10305.32, 14379.96, 10713.97, 15433.50]\n",
    "expenses = [12051.82, 5695.07, 12319.20, 12089.72, 8658.57, 840.20, 3285.73, 5821.12, 6976.93, 16618.61, 10054.37, 3803.96]\n"
   ]
  },
  {
   "cell_type": "code",
   "execution_count": 66,
   "metadata": {},
   "outputs": [
    {
     "name": "stdout",
     "output_type": "stream",
     "text": [
      "Profit per month  [12.12, 17.59, -30.14, -22.23, -5.21, 62.74, 49.99, 28.28, 22.61, -10.9, 4.31, 52.75]\n",
      "Mean profit 1750.6816666666666\n",
      "Month with good profit [True, False, False, False, False, True, True, True, True, False, False, True]\n",
      "Month with loss [False, True, True, True, True, False, False, False, False, True, True, False]\n",
      "Month with max profit [False, False, False, False, False, False, False, False, False, False, False, True]\n",
      "Month with max loss [False, False, True, False, False, False, False, False, False, False, False, False]\n",
      "[14, 7, 8, 9, 8, 8, 11, 9, 10, 14, 10, 15]\n",
      "[12, 5, 12, 12, 8, 0, 3, 5, 6, 16, 10, 3]\n",
      "[2, 1, -3, -2, 0, 7, 8, 3, 3, -2, 0, 11]\n",
      "[1.77, 1.34, -2.6, -2.04, -0.42, 5.09, 5.75, 2.76, 2.33, -1.57, 0.46, 8.14]\n"
     ]
    }
   ],
   "source": [
    "import numpy as np\n",
    "# profit is calculated as difference in revenue and expence\n",
    "profit=([])\n",
    "for i in range(0,len(revenue)):\n",
    "    profit.append(revenue[i]-expenses[i])\n",
    "\n",
    "# tax is calculate with rate 30 % to the profit\n",
    "tax=[round(i*0.3,2) for i in profit]\n",
    "\n",
    "\n",
    "#profit after the tax is paid\n",
    "profit_after_tax=([])\n",
    "for i in range(0,len(profit)):\n",
    "    profit_after_tax.append(profit[i]-tax[i])\n",
    "\n",
    "#profit per month\n",
    "profit_margin=([])\n",
    "for i in range(0,len(profit)):\n",
    "    profit_margin.append(profit_after_tax[i]/revenue[i])\n",
    "\n",
    "\n",
    "profit_margin=[round(i*100,2)for i in profit_margin]\n",
    "print(\"Profit per month \",profit_margin)\n",
    "\n",
    "#mean of the profit after paying the tax\n",
    "mean_profit= sum(profit_after_tax)/len(profit_after_tax)\n",
    "print(\"Mean profit\",mean_profit)\n",
    "\n",
    "#month in which the profit_after_tax is more than mean profit \n",
    "good_month=([])\n",
    "for i in range(0,len(profit)):\n",
    "    good_month.append(profit_after_tax[i]>mean_profit)\n",
    "print(\"Month with good profit\",good_month)\n",
    "\n",
    "#month in which the profit_after_tax is less than mean profit \n",
    "bad_month=([])\n",
    "for i in range(0,len(profit)):\n",
    "    bad_month.append(profit_after_tax[i]<mean_profit)\n",
    "print(\"Month with loss\",bad_month)\n",
    "\n",
    "#month with maximum profit after paying the tax\n",
    "best_month=([])\n",
    "for i in range(0,len(profit)):\n",
    "    best_month.append(profit_after_tax[i]==max(profit_after_tax))\n",
    "print(\"Month with max profit\",best_month)\n",
    "\n",
    "#month with minimum profit after paying the tax\n",
    "worst_month=([])\n",
    "for i in range(0,len(profit)):\n",
    "    worst_month.append(profit_after_tax[i]==min(profit_after_tax))\n",
    "print(\"Month with max loss\",worst_month)\n",
    "\n",
    "\n",
    "#convert all calculation to the 1000 rupees unit\n",
    "revenue_1000=[round(i/1000,2) for i in revenue]\n",
    "expenses_1000=[round(i/1000,2) for i in expenses]\n",
    "profit_1000=[round(i/1000,2) for i in profit]\n",
    "profit_after_tax_1000=[round(i/1000,2) for i in profit_after_tax]\n",
    "\n",
    "revenue_1000=[int(i) for i in revenue_1000]\n",
    "print(revenue_1000)\n",
    "\n",
    "expenses_1000=[int(i) for i in expenses_1000]\n",
    "print(expenses_1000)\n",
    "profit_1000=[int(i) for i in profit_1000]\n",
    "print(profit_1000)\n",
    "profit_after_tax=[int(i) for i in profit_after_tax_1000]\n",
    "print(profit_after_tax_1000)"
   ]
  },
  {
   "cell_type": "code",
   "execution_count": null,
   "metadata": {},
   "outputs": [],
   "source": []
  },
  {
   "cell_type": "code",
   "execution_count": null,
   "metadata": {},
   "outputs": [],
   "source": []
  },
  {
   "cell_type": "code",
   "execution_count": null,
   "metadata": {},
   "outputs": [],
   "source": []
  },
  {
   "cell_type": "code",
   "execution_count": null,
   "metadata": {},
   "outputs": [],
   "source": []
  },
  {
   "cell_type": "code",
   "execution_count": null,
   "metadata": {},
   "outputs": [],
   "source": []
  },
  {
   "cell_type": "code",
   "execution_count": null,
   "metadata": {},
   "outputs": [],
   "source": []
  },
  {
   "cell_type": "code",
   "execution_count": null,
   "metadata": {},
   "outputs": [],
   "source": []
  },
  {
   "cell_type": "code",
   "execution_count": null,
   "metadata": {},
   "outputs": [],
   "source": []
  }
 ],
 "metadata": {
  "kernelspec": {
   "display_name": "Python 3",
   "language": "python",
   "name": "python3"
  },
  "language_info": {
   "codemirror_mode": {
    "name": "ipython",
    "version": 3
   },
   "file_extension": ".py",
   "mimetype": "text/x-python",
   "name": "python",
   "nbconvert_exporter": "python",
   "pygments_lexer": "ipython3",
   "version": "3.8.5"
  }
 },
 "nbformat": 4,
 "nbformat_minor": 4
}
